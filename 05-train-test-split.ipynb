{
 "cells": [
  {
   "cell_type": "code",
   "execution_count": 1,
   "metadata": {},
   "outputs": [],
   "source": [
    "import os"
   ]
  },
  {
   "cell_type": "code",
   "execution_count": 2,
   "metadata": {},
   "outputs": [],
   "source": [
    "for a_type in ['train2', 'test2', 'valid2']:\n",
    "    for a_class in ['yes', 'no']:\n",
    "        os.makedirs('data/' + a_type + '/' + a_class)"
   ]
  },
  {
   "cell_type": "code",
   "execution_count": 3,
   "metadata": {},
   "outputs": [],
   "source": [
    "from sklearn.model_selection import train_test_split"
   ]
  },
  {
   "cell_type": "code",
   "execution_count": 4,
   "metadata": {},
   "outputs": [],
   "source": [
    "yes_files = list(sorted(os.listdir('data/bigger_set/yes')))\n",
    "no_files = list(sorted(os.listdir('data/bigger_set/no')))"
   ]
  },
  {
   "cell_type": "code",
   "execution_count": 5,
   "metadata": {},
   "outputs": [],
   "source": [
    "train_files, test_files = train_test_split(yes_files, test_size=0.5, random_state=20180531)\n",
    "valid_files, test_files = train_test_split(test_files, test_size=0.6, random_state=13509102)"
   ]
  },
  {
   "cell_type": "code",
   "execution_count": 6,
   "metadata": {},
   "outputs": [],
   "source": [
    "from shutil import copyfile"
   ]
  },
  {
   "cell_type": "code",
   "execution_count": 7,
   "metadata": {},
   "outputs": [],
   "source": [
    "for one_file in train_files:\n",
    "    copyfile('data/bigger_set/yes/' + one_file, 'data/train2/yes/' + one_file)\n",
    "for one_file in valid_files:\n",
    "    copyfile('data/bigger_set/yes/' + one_file, 'data/valid2/yes/' + one_file)\n",
    "for one_file in test_files:\n",
    "    copyfile('data/bigger_set/yes/' + one_file, 'data/test2/yes/' + one_file)"
   ]
  },
  {
   "cell_type": "code",
   "execution_count": 8,
   "metadata": {},
   "outputs": [],
   "source": [
    "train_files, test_files = train_test_split(no_files, test_size=0.5, random_state=20180531)\n",
    "valid_files, test_files = train_test_split(test_files, test_size=0.6, random_state=13509102)"
   ]
  },
  {
   "cell_type": "code",
   "execution_count": 9,
   "metadata": {},
   "outputs": [],
   "source": [
    "for one_file in train_files:\n",
    "    copyfile('data/bigger_set/no/' + one_file, 'data/train2/no/' + one_file)\n",
    "for one_file in valid_files:\n",
    "    copyfile('data/bigger_set/no/' + one_file, 'data/valid2/no/' + one_file)\n",
    "for one_file in test_files:\n",
    "    copyfile('data/bigger_set/no/' + one_file, 'data/test2/no/' + one_file)"
   ]
  },
  {
   "cell_type": "code",
   "execution_count": null,
   "metadata": {},
   "outputs": [],
   "source": []
  }
 ],
 "metadata": {
  "kernelspec": {
   "display_name": "Python 3",
   "language": "python",
   "name": "python3"
  },
  "language_info": {
   "codemirror_mode": {
    "name": "ipython",
    "version": 3
   },
   "file_extension": ".py",
   "mimetype": "text/x-python",
   "name": "python",
   "nbconvert_exporter": "python",
   "pygments_lexer": "ipython3",
   "version": "3.5.2"
  },
  "toc": {
   "base_numbering": 1,
   "nav_menu": {},
   "number_sections": true,
   "sideBar": true,
   "skip_h1_title": false,
   "title_cell": "Table of Contents",
   "title_sidebar": "Contents",
   "toc_cell": false,
   "toc_position": {},
   "toc_section_display": true,
   "toc_window_display": false
  }
 },
 "nbformat": 4,
 "nbformat_minor": 2
}
