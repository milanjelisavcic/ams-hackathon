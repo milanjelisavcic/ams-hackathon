{
 "cells": [
  {
   "cell_type": "code",
   "execution_count": 1,
   "metadata": {},
   "outputs": [
    {
     "name": "stderr",
     "output_type": "stream",
     "text": [
      "/home/sai/code/personal/py-snippets/.env/lib/python3.5/site-packages/h5py/__init__.py:36: FutureWarning: Conversion of the second argument of issubdtype from `float` to `np.floating` is deprecated. In future, it will be treated as `np.float64 == np.dtype(float).type`.\n",
      "  from ._conv import register_converters as _register_converters\n",
      "Using TensorFlow backend.\n"
     ]
    }
   ],
   "source": [
    "import math\n",
    "import os\n",
    "import keras as k\n",
    "import numpy as np\n",
    "import pandas as pd"
   ]
  },
  {
   "cell_type": "code",
   "execution_count": 2,
   "metadata": {},
   "outputs": [],
   "source": [
    "model = k.applications.VGG16(weights = 'imagenet',include_top=False)\n",
    "x = model.get_layer('block5_conv3').output\n",
    "x = k.layers.GlobalAveragePooling2D()(x)\n",
    "x = k.layers.Dense(256, activation='relu')(x)\n",
    "x = k.layers.Dropout(0.5)(x)\n",
    "x = k.layers.Dense(1, activation='sigmoid')(x)\n",
    "model_final = k.models.Model(inputs=model.input, outputs=x)"
   ]
  },
  {
   "cell_type": "code",
   "execution_count": 3,
   "metadata": {},
   "outputs": [],
   "source": [
    "for layer in model.layers:\n",
    "    layer.trainable = False"
   ]
  },
  {
   "cell_type": "code",
   "execution_count": 4,
   "metadata": {},
   "outputs": [],
   "source": [
    "model_final.compile(optimizer = k.optimizers.SGD(lr=0.001, momentum=0.9, nesterov=True),\n",
    "                    loss      = 'binary_crossentropy',\n",
    "                    metrics   = ['accuracy'])"
   ]
  },
  {
   "cell_type": "code",
   "execution_count": 5,
   "metadata": {},
   "outputs": [],
   "source": [
    "from keras.preprocessing.image import ImageDataGenerator"
   ]
  },
  {
   "cell_type": "code",
   "execution_count": 6,
   "metadata": {},
   "outputs": [],
   "source": [
    "datagen = ImageDataGenerator( \n",
    "    featurewise_center            = True,\n",
    "    rescale                       = 1.,\n",
    "    rotation_range                = 10,\n",
    "    width_shift_range             = .1,\n",
    "    height_shift_range            = .1,\n",
    "    shear_range                   = 0.2,\n",
    "    zoom_range                    = 0.2,\n",
    "    horizontal_flip               = False,\n",
    "    vertical_flip                 = False,\n",
    "    fill_mode                     = \"reflect\")\n",
    "\n",
    "# normalization neccessary for correct image input to VGG16\n",
    "datagen.mean=np.array([103.939, 116.779, 123.68], dtype=np.float32).reshape(1,1,3)\n",
    "\n",
    "# no data augmentation for validation and test set\n",
    "validgen = ImageDataGenerator(rescale=1., featurewise_center=True)\n",
    "validgen.mean=np.array([103.939, 116.779, 123.68], dtype=np.float32).reshape(1,1,3)"
   ]
  },
  {
   "cell_type": "code",
   "execution_count": 7,
   "metadata": {},
   "outputs": [
    {
     "name": "stdout",
     "output_type": "stream",
     "text": [
      "Found 328 images belonging to 2 classes.\n",
      "Found 131 images belonging to 2 classes.\n",
      "Found 198 images belonging to 2 classes.\n"
     ]
    }
   ],
   "source": [
    "img_width  = 256\n",
    "img_height = 256\n",
    "\n",
    "train_data_dir      = \"data/train\"\n",
    "validation_data_dir = \"data/valid\"\n",
    "test_data_dir       = \"data/test\"\n",
    "\n",
    "batch_size_train = 5\n",
    "batch_size_val   = 15\n",
    "\n",
    "train_gen = datagen.flow_from_directory(\n",
    "        directory   = train_data_dir,\n",
    "        target_size = (img_height, img_width),\n",
    "        batch_size  = batch_size_train,\n",
    "        class_mode  = \"binary\",\n",
    "        shuffle     = True)\n",
    "\n",
    "val_gen = validgen.flow_from_directory(\n",
    "        directory   = validation_data_dir,\n",
    "        target_size = (img_height, img_width),\n",
    "        batch_size  = batch_size_val,\n",
    "        class_mode  = \"binary\",\n",
    "        shuffle     = False)\n",
    "\n",
    "test_gen = validgen.flow_from_directory(\n",
    "        directory   = test_data_dir,\n",
    "        target_size = (img_height, img_width),\n",
    "        batch_size  = batch_size_val,\n",
    "        class_mode  = \"binary\",\n",
    "        shuffle     = False)\n",
    "\n",
    "train_samples      = len(train_gen.filenames)\n",
    "validation_samples = len(val_gen.filenames)\n",
    "test_samples       = len(test_gen.filenames)"
   ]
  },
  {
   "cell_type": "code",
   "execution_count": 8,
   "metadata": {},
   "outputs": [],
   "source": [
    "from keras.callbacks import EarlyStopping, ReduceLROnPlateau, ModelCheckpoint\n",
    "callbacks = [EarlyStopping(monitor='val_loss',\n",
    "                           patience=15,\n",
    "                           verbose=1,\n",
    "                           min_delta=1e-4,\n",
    "                           mode='min'),\n",
    "             ReduceLROnPlateau(monitor='val_loss',\n",
    "                               factor=0.1,\n",
    "                               patience=3,\n",
    "                               verbose=1,\n",
    "                               epsilon=1e-4,\n",
    "                               mode='min'),\n",
    "             ModelCheckpoint(monitor='val_loss',\n",
    "                             filepath='data/weights/best_weights.hdf5',\n",
    "                             save_best_only=True,\n",
    "                             save_weights_only=True,\n",
    "                             mode='min')]"
   ]
  },
  {
   "cell_type": "code",
   "execution_count": 9,
   "metadata": {},
   "outputs": [
    {
     "name": "stdout",
     "output_type": "stream",
     "text": [
      "Epoch 1/50\n",
      " - 12s - loss: 0.2922 - acc: 0.5081 - val_loss: 0.7859 - val_acc: 0.5420\n",
      "Epoch 2/50\n",
      " - 8s - loss: 0.2327 - acc: 0.5717 - val_loss: 0.6413 - val_acc: 0.6336\n",
      "Epoch 3/50\n",
      " - 8s - loss: 0.2051 - acc: 0.6364 - val_loss: 0.7878 - val_acc: 0.4809\n",
      "Epoch 4/50\n",
      " - 8s - loss: 0.1904 - acc: 0.5889 - val_loss: 0.6554 - val_acc: 0.5573\n",
      "Epoch 5/50\n",
      " - 8s - loss: 0.1689 - acc: 0.6627 - val_loss: 0.6663 - val_acc: 0.5496\n",
      "Epoch 6/50\n",
      " - 8s - loss: 0.1369 - acc: 0.6969 - val_loss: 0.4541 - val_acc: 0.7786\n",
      "Epoch 7/50\n",
      " - 8s - loss: 0.1474 - acc: 0.7243 - val_loss: 0.4700 - val_acc: 0.7710\n",
      "Epoch 8/50\n",
      " - 8s - loss: 0.1448 - acc: 0.6849 - val_loss: 0.4022 - val_acc: 0.8473\n",
      "Epoch 9/50\n",
      " - 8s - loss: 0.1245 - acc: 0.8041 - val_loss: 0.5328 - val_acc: 0.7099\n",
      "Epoch 10/50\n",
      " - 8s - loss: 0.1369 - acc: 0.7131 - val_loss: 0.4738 - val_acc: 0.7710\n",
      "Epoch 11/50\n",
      " - 8s - loss: 0.1176 - acc: 0.7788 - val_loss: 0.4556 - val_acc: 0.7786\n",
      "Epoch 12/50\n",
      " - 8s - loss: 0.1329 - acc: 0.7242 - val_loss: 0.4455 - val_acc: 0.7939\n",
      "\n",
      "Epoch 00012: ReduceLROnPlateau reducing learning rate to 0.00010000000474974513.\n",
      "Epoch 13/50\n",
      " - 8s - loss: 0.1186 - acc: 0.8324 - val_loss: 0.4203 - val_acc: 0.8092\n",
      "Epoch 14/50\n",
      " - 8s - loss: 0.1070 - acc: 0.8192 - val_loss: 0.4420 - val_acc: 0.8015\n",
      "Epoch 15/50\n",
      " - 8s - loss: 0.1208 - acc: 0.7788 - val_loss: 0.4473 - val_acc: 0.7863\n",
      "\n",
      "Epoch 00015: ReduceLROnPlateau reducing learning rate to 1.0000000474974514e-05.\n",
      "Epoch 16/50\n",
      " - 8s - loss: 0.1119 - acc: 0.8525 - val_loss: 0.4396 - val_acc: 0.7939\n",
      "Epoch 17/50\n",
      " - 8s - loss: 0.1086 - acc: 0.7889 - val_loss: 0.4401 - val_acc: 0.7863\n",
      "Epoch 18/50\n",
      " - 8s - loss: 0.1219 - acc: 0.7818 - val_loss: 0.4397 - val_acc: 0.7939\n",
      "\n",
      "Epoch 00018: ReduceLROnPlateau reducing learning rate to 1.0000000656873453e-06.\n",
      "Epoch 19/50\n",
      " - 8s - loss: 0.1057 - acc: 0.8060 - val_loss: 0.4402 - val_acc: 0.7863\n",
      "Epoch 20/50\n",
      " - 8s - loss: 0.1252 - acc: 0.7788 - val_loss: 0.4403 - val_acc: 0.7863\n",
      "Epoch 21/50\n",
      " - 8s - loss: 0.1239 - acc: 0.7434 - val_loss: 0.4404 - val_acc: 0.7863\n",
      "\n",
      "Epoch 00021: ReduceLROnPlateau reducing learning rate to 1.0000001111620805e-07.\n",
      "Epoch 22/50\n",
      " - 8s - loss: 0.1214 - acc: 0.7677 - val_loss: 0.4405 - val_acc: 0.7863\n",
      "Epoch 23/50\n",
      " - 8s - loss: 0.1212 - acc: 0.7677 - val_loss: 0.4404 - val_acc: 0.7863\n",
      "Epoch 00023: early stopping\n"
     ]
    },
    {
     "data": {
      "text/plain": [
       "<keras.callbacks.History at 0x7f25b17142b0>"
      ]
     },
     "execution_count": 9,
     "metadata": {},
     "output_type": "execute_result"
    }
   ],
   "source": [
    "model_final.fit_generator(generator        = train_gen,\n",
    "                          epochs           = 50, \n",
    "                          steps_per_epoch  = math.ceil(train_samples / batch_size_train), \n",
    "                          validation_data  = val_gen, \n",
    "                          validation_steps = math.ceil(validation_samples / batch_size_val), \n",
    "                          verbose          = 2,\n",
    "                          callbacks        = callbacks,\n",
    "                          class_weight     = {0: 50/328, 1: 278/328})"
   ]
  },
  {
   "cell_type": "code",
   "execution_count": 10,
   "metadata": {},
   "outputs": [],
   "source": [
    "model_final.load_weights('data/weights/best_weights.hdf5')"
   ]
  },
  {
   "cell_type": "code",
   "execution_count": 11,
   "metadata": {},
   "outputs": [],
   "source": [
    "for layer in model_final.layers:\n",
    "    layer.trainable = True"
   ]
  },
  {
   "cell_type": "code",
   "execution_count": 12,
   "metadata": {},
   "outputs": [],
   "source": [
    "model_final.compile(optimizer = k.optimizers.SGD(lr=0.000001, momentum=0.9, nesterov=True),\n",
    "                    loss      = 'binary_crossentropy',\n",
    "                    metrics   = ['accuracy'])"
   ]
  },
  {
   "cell_type": "code",
   "execution_count": 13,
   "metadata": {},
   "outputs": [
    {
     "name": "stdout",
     "output_type": "stream",
     "text": [
      "Epoch 1/50\n",
      " - 22s - loss: 0.1322 - acc: 0.7950 - val_loss: 0.4075 - val_acc: 0.8321\n",
      "Epoch 2/50\n",
      " - 19s - loss: 0.1332 - acc: 0.7859 - val_loss: 0.4143 - val_acc: 0.8321\n",
      "Epoch 3/50\n",
      " - 20s - loss: 0.1246 - acc: 0.7869 - val_loss: 0.4189 - val_acc: 0.8092\n",
      "Epoch 4/50\n",
      " - 19s - loss: 0.1367 - acc: 0.7828 - val_loss: 0.4230 - val_acc: 0.8015\n",
      "Epoch 5/50\n",
      " - 19s - loss: 0.1366 - acc: 0.7757 - val_loss: 0.4304 - val_acc: 0.8015\n",
      "\n",
      "Epoch 00005: ReduceLROnPlateau reducing learning rate to 9.999999974752428e-08.\n",
      "Epoch 6/50\n",
      " - 19s - loss: 0.1146 - acc: 0.7980 - val_loss: 0.4299 - val_acc: 0.8015\n",
      "Epoch 7/50\n",
      " - 19s - loss: 0.1418 - acc: 0.7818 - val_loss: 0.4305 - val_acc: 0.8015\n",
      "Epoch 8/50\n",
      " - 19s - loss: 0.1581 - acc: 0.7182 - val_loss: 0.4315 - val_acc: 0.8015\n",
      "\n",
      "Epoch 00008: ReduceLROnPlateau reducing learning rate to 1.0000000116860975e-08.\n",
      "Epoch 9/50\n",
      " - 19s - loss: 0.1207 - acc: 0.7737 - val_loss: 0.4314 - val_acc: 0.8015\n",
      "Epoch 10/50\n",
      " - 19s - loss: 0.1341 - acc: 0.8060 - val_loss: 0.4314 - val_acc: 0.8015\n",
      "Epoch 11/50\n",
      " - 19s - loss: 0.1329 - acc: 0.7788 - val_loss: 0.4315 - val_acc: 0.8015\n",
      "\n",
      "Epoch 00011: ReduceLROnPlateau reducing learning rate to 9.999999939225292e-10.\n",
      "Epoch 12/50\n",
      " - 19s - loss: 0.1216 - acc: 0.7798 - val_loss: 0.4315 - val_acc: 0.8015\n",
      "Epoch 13/50\n",
      " - 19s - loss: 0.1308 - acc: 0.7788 - val_loss: 0.4315 - val_acc: 0.8015\n",
      "Epoch 14/50\n",
      " - 19s - loss: 0.1404 - acc: 0.7707 - val_loss: 0.4315 - val_acc: 0.8015\n",
      "\n",
      "Epoch 00014: ReduceLROnPlateau reducing learning rate to 9.999999717180686e-11.\n",
      "Epoch 15/50\n",
      " - 19s - loss: 0.1336 - acc: 0.7536 - val_loss: 0.4315 - val_acc: 0.8015\n",
      "Epoch 16/50\n",
      " - 19s - loss: 0.1276 - acc: 0.8000 - val_loss: 0.4315 - val_acc: 0.8015\n",
      "Epoch 00016: early stopping\n"
     ]
    },
    {
     "data": {
      "text/plain": [
       "<keras.callbacks.History at 0x7f25b13bf780>"
      ]
     },
     "execution_count": 13,
     "metadata": {},
     "output_type": "execute_result"
    }
   ],
   "source": [
    "model_final.fit_generator(generator        = train_gen,\n",
    "                          epochs           = 50, \n",
    "                          steps_per_epoch  = math.ceil(train_samples / batch_size_train), \n",
    "                          validation_data  = val_gen, \n",
    "                          validation_steps = math.ceil(validation_samples / batch_size_val), \n",
    "                          verbose          = 2,\n",
    "                          callbacks        = callbacks,\n",
    "                          class_weight     = {0: 50/328, 1: 278/328})"
   ]
  },
  {
   "cell_type": "code",
   "execution_count": 20,
   "metadata": {},
   "outputs": [],
   "source": [
    "model_final.load_weights('data/weights/best_weights.hdf5')"
   ]
  },
  {
   "cell_type": "code",
   "execution_count": 21,
   "metadata": {},
   "outputs": [
    {
     "name": "stdout",
     "output_type": "stream",
     "text": [
      "Found 198 images belonging to 2 classes.\n"
     ]
    }
   ],
   "source": [
    "test_gen = validgen.flow_from_directory(\n",
    "        directory   = test_data_dir,\n",
    "        target_size = (img_height, img_width),\n",
    "        batch_size  = 32,\n",
    "        class_mode  = \"binary\",\n",
    "        shuffle     = False)\n",
    "test_samples = len(test_gen.filenames)\n",
    "preds = model_final.predict_generator(test_gen, math.ceil(test_samples / 32))"
   ]
  },
  {
   "cell_type": "code",
   "execution_count": 22,
   "metadata": {},
   "outputs": [],
   "source": [
    "preds = [x[0] for x in preds]"
   ]
  },
  {
   "cell_type": "code",
   "execution_count": 23,
   "metadata": {},
   "outputs": [],
   "source": [
    "from sklearn.metrics import roc_auc_score"
   ]
  },
  {
   "cell_type": "code",
   "execution_count": 24,
   "metadata": {},
   "outputs": [
    {
     "data": {
      "text/plain": [
       "0.7365269461077844"
      ]
     },
     "execution_count": 24,
     "metadata": {},
     "output_type": "execute_result"
    }
   ],
   "source": [
    "roc_auc_score(test_gen.classes, preds)"
   ]
  },
  {
   "cell_type": "code",
   "execution_count": 25,
   "metadata": {},
   "outputs": [],
   "source": [
    "from sklearn.metrics import roc_curve\n",
    "fpr, tpr, thresholds = roc_curve(test_gen.classes, preds)"
   ]
  },
  {
   "cell_type": "code",
   "execution_count": 26,
   "metadata": {},
   "outputs": [
    {
     "data": {
      "image/png": "[encoded data removed]",
      "text/plain": [
       "<Figure size 504x504 with 1 Axes>"
      ]
     },
     "metadata": {},
     "output_type": "display_data"
    }
   ],
   "source": [
    "import matplotlib.pyplot as plt\n",
    "%matplotlib inline\n",
    "plt.figure(figsize=(7,7))\n",
    "lw = 2\n",
    "plt.plot(fpr, tpr, color='darkorange', lw=lw, label='ROC curve')\n",
    "plt.plot([0, 1], [0, 1], color='navy', lw=lw, linestyle='--')\n",
    "plt.xlim([0.0, 1.0])\n",
    "plt.ylim([0.0, 1.0])\n",
    "plt.xlabel('False Positive Rate')\n",
    "plt.ylabel('True Positive Rate')\n",
    "plt.title('Receiver operating characteristic example')\n",
    "plt.legend(loc=\"lower right\")\n",
    "plt.show()"
   ]
  },
  {
   "cell_type": "code",
   "execution_count": null,
   "metadata": {},
   "outputs": [],
   "source": []
  }
 ],
 "metadata": {
  "kernelspec": {
   "display_name": "Python 3",
   "language": "python",
   "name": "python3"
  },
  "language_info": {
   "codemirror_mode": {
    "name": "ipython",
    "version": 3
   },
   "file_extension": ".py",
   "mimetype": "text/x-python",
   "name": "python",
   "nbconvert_exporter": "python",
   "pygments_lexer": "ipython3",
   "version": "3.5.2"
  },
  "toc": {
   "base_numbering": 1,
   "nav_menu": {},
   "number_sections": true,
   "sideBar": true,
   "skip_h1_title": false,
   "title_cell": "Table of Contents",
   "title_sidebar": "Contents",
   "toc_cell": false,
   "toc_position": {},
   "toc_section_display": true,
   "toc_window_display": false
  }
 },
 "nbformat": 4,
 "nbformat_minor": 2
}
